{
 "cells": [
  {
   "cell_type": "markdown",
   "metadata": {},
   "source": [
    "## DAC-001 Tutorial Questions"
   ]
  },
  {
   "cell_type": "markdown",
   "metadata": {},
   "source": [
    "### Question 1: Lists"
   ]
  },
  {
   "cell_type": "code",
   "execution_count": 32,
   "metadata": {},
   "outputs": [
    {
     "name": "stdout",
     "output_type": "stream",
     "text": [
      "['orange', 'banana', 'tomato']\n"
     ]
    }
   ],
   "source": [
    "fruits = [\"apple\", \"orange\", \"banana\"]\n",
    "\n",
    "fruits.append(\"tomato\")\n",
    "\n",
    "fruits.remove(\"apple\")\n",
    "\n",
    "print(fruits)"
   ]
  },
  {
   "cell_type": "markdown",
   "metadata": {},
   "source": [
    "### Question 2: Tuples"
   ]
  },
  {
   "cell_type": "code",
   "execution_count": 33,
   "metadata": {},
   "outputs": [
    {
     "name": "stdout",
     "output_type": "stream",
     "text": [
      "('physics', 'chemistry', 'english', 'math', 'biology', 'Literature')\n",
      "6\n"
     ]
    }
   ],
   "source": [
    "subjects = (\"physics\", \"chemistry\", \"english\", \"math\", \"biology\")\n",
    "\n",
    "sub_list = list(subjects)\n",
    "\n",
    "sub_list.append(\"Literature\")\n",
    "\n",
    "subjects = tuple(sub_list)\n",
    "\n",
    "print(subjects)\n",
    "print(len(subjects))"
   ]
  },
  {
   "cell_type": "markdown",
   "metadata": {},
   "source": [
    "### Question 3: Sorting Lists"
   ]
  },
  {
   "cell_type": "code",
   "execution_count": 34,
   "metadata": {},
   "outputs": [
    {
     "name": "stdout",
     "output_type": "stream",
     "text": [
      "[10, 6, 7, 8, 9, 3]\n",
      "[10, 9, 8, 7, 6, 3]\n",
      "[]\n"
     ]
    }
   ],
   "source": [
    "students_id = [10, 6, 7, 8, 9, 3]\n",
    "\n",
    "print(students_id)\n",
    "\n",
    "sorted_students_id = sorted(students_id, reverse=True)\n",
    "\n",
    "print(sorted_students_id)\n",
    "\n",
    "sorted_students_id.clear()\n",
    "\n",
    "print(sorted_students_id)"
   ]
  },
  {
   "cell_type": "markdown",
   "metadata": {},
   "source": [
    "### Question 4: Generating Lists"
   ]
  },
  {
   "cell_type": "code",
   "execution_count": 35,
   "metadata": {},
   "outputs": [
    {
     "name": "stdout",
     "output_type": "stream",
     "text": [
      "[15, 12, 9, 6, 3]\n"
     ]
    }
   ],
   "source": [
    "desc_list = []\n",
    "for i in range(15, 0, -3):\n",
    "    desc_list.append(i)\n",
    "\n",
    "print(desc_list)"
   ]
  },
  {
   "cell_type": "markdown",
   "metadata": {},
   "source": [
    "### Question 5: Generating Lists"
   ]
  },
  {
   "cell_type": "code",
   "execution_count": 36,
   "metadata": {},
   "outputs": [
    {
     "name": "stdout",
     "output_type": "stream",
     "text": [
      "[2, 4, 6, 8, 10, 12, 14, 16, 18, 20, 22, 24, 26, 28]\n"
     ]
    }
   ],
   "source": [
    "asc_list = []\n",
    "n = 2\n",
    "while len(asc_list) < 14:\n",
    "    asc_list.append(n)\n",
    "    n += 2\n",
    "\n",
    "print(asc_list)"
   ]
  },
  {
   "cell_type": "markdown",
   "metadata": {},
   "source": [
    "### Question 6: Combining and Separating Lists"
   ]
  },
  {
   "cell_type": "code",
   "execution_count": 43,
   "metadata": {},
   "outputs": [
    {
     "name": "stdout",
     "output_type": "stream",
     "text": [
      "[2, 3, 4, 6, 6, 8, 9, 10, 12, 12, 14, 15, 16, 18, 20, 22, 24, 26, 28]\n",
      "[2, 4, 6, 6, 8, 10, 12, 12, 14, 16, 18, 20, 22, 24, 26, 28]\n",
      "[3, 9, 15]\n"
     ]
    }
   ],
   "source": [
    "combined_list = desc_list + asc_list\n",
    "combined_list.sort()\n",
    "print(combined_list)\n",
    "\n",
    "even_numbers = []\n",
    "odd_numbers = []\n",
    "\n",
    "for i in combined_list:\n",
    "    if i % 2 == 0:\n",
    "        even_numbers.append(i)\n",
    "    else:\n",
    "        odd_numbers.append(i)\n",
    "\n",
    "print(even_numbers)\n",
    "print(odd_numbers)"
   ]
  },
  {
   "cell_type": "markdown",
   "metadata": {},
   "source": [
    "### Question 7: Functions"
   ]
  },
  {
   "cell_type": "code",
   "execution_count": 45,
   "metadata": {},
   "outputs": [
    {
     "data": {
      "text/plain": [
       "(28.26, 18.84)"
      ]
     },
     "execution_count": 45,
     "metadata": {},
     "output_type": "execute_result"
    }
   ],
   "source": [
    "def circle_properties(radius):\n",
    "    area = 3.14 * radius**2\n",
    "    circumference = 2 * 3.14 * radius\n",
    "    return area, circumference\n",
    "\n",
    "circle_properties(3)"
   ]
  },
  {
   "cell_type": "markdown",
   "metadata": {},
   "source": [
    "### Question 8: Custom Function"
   ]
  },
  {
   "cell_type": "code",
   "execution_count": 81,
   "metadata": {},
   "outputs": [
    {
     "name": "stdout",
     "output_type": "stream",
     "text": [
      "Get your daily tarot reading below!\n",
      "Card 1: Nine of Swords\n"
     ]
    }
   ],
   "source": [
    "import random\n",
    "\n",
    "def daily_tarot(num):\n",
    "    # data\n",
    "    major_arcana = [\"The Fool\", \"The Magician\", \"The High Priestess\", \"The Empress\", \"The Emperor\", \"The Pope\", \"The Lovers\", \"The Chariot\", \"Strength\", \"The Hermit\", \"Wheel of Fortune\", \"Justice\", \"The Hanged Man\", \"Death\", \"Temperance\", \"The Devil\", \"The Tower\", \"The Star\", \"The Moon\", \"The Sun\", \"Judgement\", \"The World\"]\n",
    "    minor_num = [\"Ace\", \"Two\", \"Three\", \"Four\", \"Five\", \"Six\", \"Seven\", \"Eight\", \"Nine\", \"Ten\", \"Page\", \"Knight\", \"Queen\", \"King\"]\n",
    "    minor_suit = [\"Cups\", \"Pentacles\", \"Swords\", \"Wands\"]\n",
    "\n",
    "    card_list = [] # tarot card list\n",
    "\n",
    "    for i in major_arcana: # add major arcana\n",
    "        card_list.append(i)\n",
    "        card_list.append(i + \" (Reversed)\")\n",
    "\n",
    "    for i in minor_suit: # add minor arcana\n",
    "        for j in minor_num:\n",
    "            card_list.append(j + \" of \" + i)\n",
    "            card_list.append(j + \" of \" + i + \" (Reversed)\")\n",
    "\n",
    "    random.shuffle(card_list) # shuffle (optional)\n",
    "    \n",
    "    # draw card(s)\n",
    "    if 0 < num <= 10:\n",
    "        count = 1\n",
    "        while count <= num:\n",
    "            picked = random.choice(card_list)\n",
    "            answer = \"Card \" + str(count) + \": \" + picked\n",
    "            count += 1\n",
    "\n",
    "            card_list.remove(picked) # remove picked card to avoid duplicates\n",
    "\n",
    "            print(answer)\n",
    "\n",
    "    # error checking\n",
    "    elif num > 10:\n",
    "        print(\"Pick no more than 10 cards!\")\n",
    "    else:\n",
    "        print(\"Choose a valid number!\")\n",
    "\n",
    "print(\"Get your daily tarot reading below!\")\n",
    "daily_tarot(1)\n",
    "        \n"
   ]
  },
  {
   "cell_type": "markdown",
   "metadata": {},
   "source": [
    "### Question 9: Creating and Manipulating Dictionaries"
   ]
  },
  {
   "cell_type": "code",
   "execution_count": 46,
   "metadata": {},
   "outputs": [
    {
     "name": "stdout",
     "output_type": "stream",
     "text": [
      "{'Alice': 88, 'Bob': 90, 'Charlie': 78, 'David': 92}\n"
     ]
    }
   ],
   "source": [
    "student_grades = {\"Alice\": 85, \"Bob\": 90, \"Charlie\": 78}\n",
    "\n",
    "student_grades[\"David\"] = 92\n",
    "\n",
    "student_grades[\"Alice\"] = 88\n",
    "\n",
    "print(student_grades)"
   ]
  },
  {
   "cell_type": "markdown",
   "metadata": {},
   "source": [
    "### Question 10: Using Dictionaries to Count Occurrences"
   ]
  },
  {
   "cell_type": "code",
   "execution_count": 2,
   "metadata": {},
   "outputs": [
    {
     "name": "stdout",
     "output_type": "stream",
     "text": [
      "{'apple': 3, 'banana': 2, 'orange': 1}\n"
     ]
    }
   ],
   "source": [
    "fruits = [\"apple\", \"banana\", \"apple\", \"orange\", \"banana\", \"apple\"]\n",
    "\n",
    "fruit_count = {}\n",
    "\n",
    "for i in fruits:\n",
    "    if i not in fruit_count.keys():\n",
    "        fruit_count[i] = 1\n",
    "    else:\n",
    "        fruit_count[i] += 1\n",
    "\n",
    "print(fruit_count)"
   ]
  }
 ],
 "metadata": {
  "kernelspec": {
   "display_name": "Python 3.10.4 64-bit",
   "language": "python",
   "name": "python3"
  },
  "language_info": {
   "codemirror_mode": {
    "name": "ipython",
    "version": 3
   },
   "file_extension": ".py",
   "mimetype": "text/x-python",
   "name": "python",
   "nbconvert_exporter": "python",
   "pygments_lexer": "ipython3",
   "version": "3.10.4"
  },
  "orig_nbformat": 4,
  "vscode": {
   "interpreter": {
    "hash": "76d7c06053c3456e5600312cec90888656fc0ed30c03d8425b9dac6e4fc8e014"
   }
  }
 },
 "nbformat": 4,
 "nbformat_minor": 2
}
